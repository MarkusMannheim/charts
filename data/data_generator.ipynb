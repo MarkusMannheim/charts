{
 "cells": [
  {
   "cell_type": "code",
   "execution_count": 2,
   "metadata": {},
   "outputs": [
    {
     "name": "stdout",
     "output_type": "stream",
     "text": [
      "21.821429014205933\n"
     ]
    }
   ],
   "source": [
    "import pandas as pd\n",
    "import numpy as np\n",
    "import random\n",
    "import time\n",
    "\n",
    "data = pd.DataFrame(\n",
    "    columns=[\"x\", \"y\"]\n",
    ")\n",
    "\n",
    "start = time.time()\n",
    "for i in range(0, 25000):\n",
    "    data.loc[i] = [random.gauss(0, 1), random.gauss(0, 1)]\n",
    "end = time.time()\n",
    "\n",
    "print(end - start)\n",
    "\n",
    "data.to_csv(\"./randomData.csv\", index=False)\n"
   ]
  }
 ],
 "metadata": {
  "kernelspec": {
   "display_name": "Python 3",
   "language": "python",
   "name": "python3"
  },
  "language_info": {
   "codemirror_mode": {
    "name": "ipython",
    "version": 3
   },
   "file_extension": ".py",
   "mimetype": "text/x-python",
   "name": "python",
   "nbconvert_exporter": "python",
   "pygments_lexer": "ipython3",
   "version": "3.10.10"
  },
  "orig_nbformat": 4
 },
 "nbformat": 4,
 "nbformat_minor": 2
}
